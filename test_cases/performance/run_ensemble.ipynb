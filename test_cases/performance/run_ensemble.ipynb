{
 "cells": [
  {
   "cell_type": "code",
   "execution_count": 1,
   "metadata": {},
   "outputs": [],
   "source": [
    "import parflow as pf\n",
    "import numpy as np\n",
    "from generate_reservoirs import generate_reservoirs\n",
    "import sloping_slab"
   ]
  },
  {
   "cell_type": "markdown",
   "metadata": {},
   "source": [
    "This first section is where we generate the different files needed to run the ensemble"
   ]
  },
  {
   "cell_type": "code",
   "execution_count": 2,
   "metadata": {},
   "outputs": [],
   "source": [
    "generate_reservoirs()"
   ]
  },
  {
   "cell_type": "code",
   "execution_count": 3,
   "metadata": {},
   "outputs": [],
   "source": [
    "# Generate the slope files\n",
    "slope_x = np.ones([2,1000,1000])*.01\n",
    "slope_y = np.ones([2,1000,1000])*0\n",
    "pf.write_pfb(\"input_files/slope_x.pfb\", slope_x)\n",
    "pf.write_pfb(\"input_files/slope_y.pfb\", slope_y)"
   ]
  },
  {
   "cell_type": "markdown",
   "metadata": {},
   "source": [
    "Next we are going to do the model runs"
   ]
  },
  {
   "cell_type": "code",
   "execution_count": 4,
   "metadata": {},
   "outputs": [
    {
     "name": "stderr",
     "output_type": "stream",
     "text": [
      "usage: ipykernel_launcher.py [-h] [-p P] [-q Q] [-r R]\n",
      "ipykernel_launcher.py: error: unrecognized arguments: --f=/Users/ben/Library/Jupyter/runtime/kernel-v2-85049TGm34v3Qf7sI.json\n"
     ]
    },
    {
     "ename": "SystemExit",
     "evalue": "2",
     "output_type": "error",
     "traceback": [
      "An exception has occurred, use %tb to see the full traceback.\n",
      "\u001b[0;31mSystemExit\u001b[0m\u001b[0;31m:\u001b[0m 2\n"
     ]
    },
    {
     "name": "stderr",
     "output_type": "stream",
     "text": [
      "/opt/homebrew/anaconda3/envs/test-env/lib/python3.11/site-packages/IPython/core/interactiveshell.py:3534: UserWarning: To exit: use 'exit', 'quit', or Ctrl-D.\n",
      "  warn(\"To exit: use 'exit', 'quit', or Ctrl-D.\", stacklevel=1)\n"
     ]
    }
   ],
   "source": [
    "reservoir_amounts = [0,1,10,100,1000,10000]\n",
    "\n",
    "reservoir_condition = \"releasing\"\n",
    "rain_condition = \"no_rain\"\n",
    "for number_of_reservoirs in reservoir_amounts:\n",
    "    sloping_slab.run_model(number_of_reservoirs, rain_condition=rain_condition, reservoir_condition=reservoir_condition)\n",
    "\n",
    "reservoir_condition = \"not_releasing\"\n",
    "rain_condition = \"constant_rain\"\n",
    "for number_of_reservoirs in reservoir_amounts:\n",
    "    sloping_slab.run_model(number_of_reservoirs, rain_condition=rain_condition, reservoir_condition=reservoir_condition)\n",
    "\n",
    "\n",
    "reservoir_condition = \"releasing\"\n",
    "rain_condition = \"periodic_rainfall\"\n",
    "for number_of_reservoirs in reservoir_amounts:\n",
    "    sloping_slab.run_model(number_of_reservoirs, rain_condition=rain_condition, reservoir_condition=reservoir_condition)\n"
   ]
  }
 ],
 "metadata": {
  "kernelspec": {
   "display_name": "test-env",
   "language": "python",
   "name": "python3"
  },
  "language_info": {
   "codemirror_mode": {
    "name": "ipython",
    "version": 3
   },
   "file_extension": ".py",
   "mimetype": "text/x-python",
   "name": "python",
   "nbconvert_exporter": "python",
   "pygments_lexer": "ipython3",
   "version": "3.11.5"
  },
  "orig_nbformat": 4
 },
 "nbformat": 4,
 "nbformat_minor": 2
}
