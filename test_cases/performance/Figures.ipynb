{
 "cells": [
  {
   "cell_type": "code",
   "execution_count": null,
   "metadata": {},
   "outputs": [],
   "source": [
    "import parflow as pf\n",
    "import plotly.express as px\n",
    "import matplotlib as mpl\n",
    "import matplotlib.pyplot as plot\n",
    "import os.path, time\n",
    "import pandas as pd\n",
    "import seaborn as sns\n",
    "import numpy as np"
   ]
  },
  {
   "cell_type": "markdown",
   "metadata": {},
   "source": [
    "If you have not run through run_ensemble.ipynb, you will need to do that before running this notebook"
   ]
  },
  {
   "cell_type": "markdown",
   "metadata": {},
   "source": [
    "First we need to define a couple functions for later"
   ]
  },
  {
   "cell_type": "code",
   "execution_count": null,
   "metadata": {},
   "outputs": [],
   "source": [
    "def calculate_run_times(reservoir_amounts, rain_condition, reservoir_condition):\n",
    "    run_times = {}\n",
    "    # run_times[\"preprocessing\"] = {}\n",
    "    run_times[\"first_time_step\"] = {}\n",
    "    run_times[\"second_time_step\"] = {}\n",
    "    run_times[\"rest_of_simulation\"] = {}\n",
    "    for amount in reservoir_amounts:\n",
    "        folder = f\"./test_output_longer_run/sloping_slab_with_{amount}_reservoirs_{reservoir_condition}_{rain_condition}\"\n",
    "        # preprocessing_start_file = f\"{folder}/model.pfidb\"\n",
    "        # preprocessing_start_time = os.path.getctime(preprocessing_start_file)\n",
    "        simulation_start_file = f\"{folder}/model.out.press.00000.pfb\"\n",
    "        simulation_start_time = os.path.getctime(simulation_start_file)\n",
    "        first_timestep_file = f\"{folder}/model.out.press.00001.pfb\"\n",
    "        first_timestep_time = os.path.getctime(first_timestep_file)\n",
    "        second_timestep_file = f\"{folder}/model.out.press.00002.pfb\"\n",
    "        second_timestep_time = os.path.getctime(second_timestep_file)\n",
    "        simulation_end_file = f\"{folder}/model.out.press.00010.pfb\"\n",
    "        simulation_end_time = os.path.getctime(simulation_end_file)\n",
    "        # run_times[\"preprocessing\"][amount] = (simulation_start_time-preprocessing_start_time)\n",
    "        run_times[\"first_time_step\"][amount] = (first_timestep_time-simulation_start_time)\n",
    "        run_times[\"second_time_step\"][amount] = (second_timestep_time-first_timestep_time)\n",
    "        run_times[\"rest_of_simulation\"][amount] = (simulation_end_time-second_timestep_time)\n",
    "    return pd.DataFrame(run_times)\n",
    "\n"
   ]
  },
  {
   "cell_type": "code",
   "execution_count": null,
   "metadata": {},
   "outputs": [],
   "source": [
    "def get_surface_pressure(rain_condition, reservoir_condition):\n",
    "    amount = 10000\n",
    "    folder = f\"./test_output_longer_run/sloping_slab_with_{amount}_reservoirs_{reservoir_condition}_{rain_condition}\"\n",
    "    pressure_file = f\"{folder}/model.out.press.00010.pfb\"\n",
    "    pressure = pf.read_pfb(pressure_file)\n",
    "    return pressure"
   ]
  },
  {
   "cell_type": "code",
   "execution_count": null,
   "metadata": {},
   "outputs": [],
   "source": [
    "\n",
    "def get_reservoir_mask(reservoir_file):\n",
    "    df = pd.read_csv(reservoir_file)\n",
    "    dx = 10.0\n",
    "    dy = 10.0\n",
    "    df.Intake_X = (df.Intake_X/dx).astype(int)\n",
    "    df.Intake_Y = (df.Intake_Y/dy).astype(int)\n",
    "    reservoir_mask = np.zeros([500,500])\n",
    "    for reservoir in range(0,10000):\n",
    "        reservoir_mask[df.Intake_Y[reservoir], df.Intake_X[reservoir]] = 1\n",
    "    return reservoir_mask\n",
    "\n",
    "reservoirs_releasing_mask = get_reservoir_mask(\"reservoir_files/10000_reservoirs_releasing.csv\")\n",
    "reservoirs_not_releasing_mask = get_reservoir_mask(\"reservoir_files/10000_reservoirs_not_releasing.csv\")\n"
   ]
  },
  {
   "cell_type": "markdown",
   "metadata": {},
   "source": [
    "Next we tabulate some statistics"
   ]
  },
  {
   "cell_type": "code",
   "execution_count": null,
   "metadata": {},
   "outputs": [],
   "source": [
    "\n",
    "#for the sake of your time we are not running for 10000 reservoirs but if you would like to you \n",
    "# can uncomment this and then comment out the next line\n",
    "# reservoir_amounts = [0,1,10,100,1000,10000]\n",
    "reservoir_amounts = [0,1,10,100,1000]\n",
    "\n",
    "rain_condition = \"constant_rain\"\n",
    "reservoir_condition = \"not_releasing\"\n",
    "filling_runtimes = calculate_run_times(reservoir_amounts, rain_condition, reservoir_condition)\n",
    "filling_pressure = get_surface_pressure(rain_condition, reservoir_condition)\n",
    "# filling_pressure = np.where(reservoirs_not_releasing_mask==1, np.nan, filling_pressure)\n",
    "\n",
    "rain_condition = \"no_rain\"\n",
    "reservoir_condition = \"releasing\"\n",
    "draining_runtimes = calculate_run_times(reservoir_amounts, rain_condition, reservoir_condition)\n",
    "draining_pressure = get_surface_pressure(rain_condition, reservoir_condition)\n",
    "# draining_pressure = np.where(reservoirs_releasing_mask==1, np.nan, filling_pressure)\n",
    "\n",
    "rain_condition = \"periodic_rainfall\"\n",
    "reservoir_condition = \"releasing\"\n",
    "periodic_rainfall_runtimes = calculate_run_times(reservoir_amounts, rain_condition, reservoir_condition)\n",
    "periodic_rainfall_pressure = get_surface_pressure(rain_condition, reservoir_condition)\n",
    "# periodic_rainfall_pressure = np.where(reservoirs_releasing_mask==1, np.nan, filling_pressure)"
   ]
  },
  {
   "cell_type": "code",
   "execution_count": null,
   "metadata": {},
   "outputs": [],
   "source": [
    "# An example of the data we are going to plot\n",
    "filling_runtimes"
   ]
  },
  {
   "cell_type": "markdown",
   "metadata": {},
   "source": [
    "Finally, we produce the figure from the paper. Note that we are now doing the preprocessing with ParFlow automatically for both performance and user experience reasons, so that statistic is not calculated now"
   ]
  },
  {
   "cell_type": "code",
   "execution_count": null,
   "metadata": {},
   "outputs": [],
   "source": [
    "fig, axes = plot.subplots(2, 3, layout='constrained')\n",
    "fig.set_figheight(12)\n",
    "fig.set_figwidth(18)\n",
    "plot.rcParams.update({'font.size': 14})\n",
    "cmap = mpl.pyplot.get_cmap(\"BrBG\")\n",
    "# cmap.set_bad(color=\"grey\")\n",
    "\n",
    "\n",
    "\n",
    "filling_runtimes.plot.area( logx=True, ax = axes[1,0], legend=False, ylim=[0,2100])\n",
    "axes[1,0].set_ylabel(\"Time (seconds)\")\n",
    "axes[1,0].set_xlabel(\"Number of reservoirs in domain\")\n",
    "draining_runtimes.plot.area( logx=True, ax = axes[1,1], legend=False, ylim=[0,2100])\n",
    "axes[1,1].set_xlabel(\"Number of reservoirs in domain\")\n",
    "periodic_rainfall_runtimes.plot.area( logx=True, ax = axes[1,2], legend=True, ylim=[0,2100])\n",
    "axes[1,2].set_xlabel(\"Number of reservoirs in domain\")\n",
    "\n",
    "filling_image =  axes[0,0].imshow(filling_pressure[0], vmin=-0.025, vmax=0.025, cmap=cmap)\n",
    "axes[0,0].grid(False)\n",
    "axes[0,0].axis('off')\n",
    "\n",
    "draining_image = axes[0,1].imshow(draining_pressure[0], vmin=-0.025, vmax=0.025, cmap=cmap)\n",
    "axes[0,1].grid(False)\n",
    "axes[0,1].axis('off')\n",
    "\n",
    "periodic_rainfall_image = axes[0,2].imshow(periodic_rainfall_pressure[0], vmin=-0.025, vmax=0.025, cmap=cmap)\n",
    "axes[0,2].grid(False)\n",
    "axes[0,2].axis('off')\n",
    "colobar = plot.colorbar(periodic_rainfall_image, label=\"pressure (m)\")\n",
    "\n",
    "\n",
    "\n",
    "axes[0,0].title.set_text(\"Filling\\n(a)\")\n",
    "axes[0,1].title.set_text(\"Draining\\n(b)\")\n",
    "axes[0,2].title.set_text(\"Periodic Rainfall\\n(c)\")\n",
    "\n",
    "axes[1,0].title.set_text(\"(d)\")\n",
    "axes[1,1].title.set_text(\"(e)\")\n",
    "axes[1,2].title.set_text(\"(f)\")"
   ]
  },
  {
   "cell_type": "code",
   "execution_count": null,
   "metadata": {},
   "outputs": [],
   "source": []
  }
 ],
 "metadata": {
  "kernelspec": {
   "display_name": "test-env",
   "language": "python",
   "name": "python3"
  },
  "language_info": {
   "codemirror_mode": {
    "name": "ipython",
    "version": 3
   },
   "file_extension": ".py",
   "mimetype": "text/x-python",
   "name": "python",
   "nbconvert_exporter": "python",
   "pygments_lexer": "ipython3",
   "version": "3.11.5"
  }
 },
 "nbformat": 4,
 "nbformat_minor": 2
}
