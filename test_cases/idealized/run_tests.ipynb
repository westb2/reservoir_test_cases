{
 "cells": [
  {
   "cell_type": "code",
   "execution_count": 1,
   "metadata": {},
   "outputs": [],
   "source": [
    "import parflow as pf\n",
    "from tilted_v_with_reservoir import run_model"
   ]
  },
  {
   "cell_type": "code",
   "execution_count": null,
   "metadata": {},
   "outputs": [],
   "source": [
    "RAINING = -.001\n",
    "NOT_RAINING = 0\n",
    "RELEASING = 1\n",
    "NOT_RELEASING = 0\n",
    "\n",
    "\n",
    "run_name = \"filling\"\n",
    "rain_rate_1 = RAINING\n",
    "rain_rate_2 = RAINING\n",
    "reservoir_release_rate = NOT_RELEASING\n",
    "run_model(rain_rate_1, rain_rate_2, reservoir_release_rate, )\n",
    "\n",
    "run_name = \"draining\"\n",
    "rain_rate_1 = NOT_RAINING\n",
    "rain_rate_2 = NOT_RAINING\n",
    "reservoir_release_rate = RELEASING\n",
    "run_model(rain_rate_1, rain_rate_2, reservoir_release_rate)\n",
    "\n",
    "run_name = \"periodic_rainfall\"\n",
    "rain_rate_1 = RAINING\n",
    "rain_rate_2 = NOT_RAINING\n",
    "reservoir_release_rate = RELEASING\n",
    "run_model(rain_rate_1, rain_rate_2, reservoir_release_rate)"
   ]
  }
 ],
 "metadata": {
  "kernelspec": {
   "display_name": "test-env",
   "language": "python",
   "name": "python3"
  },
  "language_info": {
   "codemirror_mode": {
    "name": "ipython",
    "version": 3
   },
   "file_extension": ".py",
   "mimetype": "text/x-python",
   "name": "python",
   "nbconvert_exporter": "python",
   "pygments_lexer": "ipython3",
   "version": "3.11.5"
  }
 },
 "nbformat": 4,
 "nbformat_minor": 2
}
