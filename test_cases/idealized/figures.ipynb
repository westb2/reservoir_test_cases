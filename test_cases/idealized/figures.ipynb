{
 "cells": [
  {
   "cell_type": "code",
   "execution_count": null,
   "metadata": {},
   "outputs": [],
   "source": [
    "import parflow as pf\n",
    "import pandas as pd\n",
    "import os\n",
    "import plotly.express as px\n",
    "from domain_files.tilted_v_with_reservoir import run_model\n",
    "import matplotlib.pyplot as plt"
   ]
  },
  {
   "cell_type": "markdown",
   "metadata": {},
   "source": [
    "The first thing we need to do is run the model"
   ]
  },
  {
   "cell_type": "code",
   "execution_count": null,
   "metadata": {},
   "outputs": [],
   "source": [
    "# Set the path to your parflow installation if you haven't already\n",
    "os.environ[\"PARFLOW_DIR\"] = \"/path/to/your/parflow/installation\"\n",
    "\n",
    "\n",
    "RAINING = -.001\n",
    "NOT_RAINING = 0\n",
    "RELEASING = 5\n",
    "NOT_RELEASING = 0\n",
    "\n",
    "\n",
    "run_name = \"filling\"\n",
    "rain_rate_1 = RAINING\n",
    "rain_rate_2 = RAINING\n",
    "reservoir_release_rate = NOT_RELEASING\n",
    "initial_storage = 25\n",
    "run_model(run_name, rain_rate_1, rain_rate_2, reservoir_release_rate, initial_storage)\n",
    "\n",
    "run_name = \"draining\"\n",
    "rain_rate_1 = NOT_RAINING\n",
    "rain_rate_2 = NOT_RAINING\n",
    "reservoir_release_rate = RELEASING\n",
    "initial_storage = 49\n",
    "run_model(run_name, rain_rate_1, rain_rate_2, reservoir_release_rate, initial_storage)\n",
    "\n",
    "run_name = \"periodic_rainfall\"\n",
    "rain_rate_1 = RAINING\n",
    "rain_rate_2 = NOT_RAINING\n",
    "reservoir_release_rate = RELEASING\n",
    "initial_storage = 40\n",
    "run_model(run_name, rain_rate_1, rain_rate_2, reservoir_release_rate, initial_storage)"
   ]
  },
  {
   "cell_type": "markdown",
   "metadata": {},
   "source": [
    "Next we plot the surface pressures for the final timestep"
   ]
  },
  {
   "cell_type": "code",
   "execution_count": null,
   "metadata": {},
   "outputs": [],
   "source": [
    "pressure = pf.read_pfb(\"./test_output/draining/tilted_v_with_reservoir.out.press.00009.pfb\")\n",
    "# pressure = pf.read_pfb(\"/Users/ben/Documents/GitHub/reservoir_test_cases/test_cases/idealized/test_output/filling/tilted_v_with_reservoir_initial_pressure.pfb\")\n",
    "\n",
    "px.imshow(pressure[0])"
   ]
  },
  {
   "cell_type": "markdown",
   "metadata": {},
   "source": [
    "Next we get the data about the reservoir from the runs"
   ]
  },
  {
   "cell_type": "code",
   "execution_count": null,
   "metadata": {},
   "outputs": [],
   "source": [
    "# Get the data from the runs\n",
    "output_directory = './test_output'\n",
    "\n",
    "run_names = [\"filling\", \"draining\", \"periodic_rainfall\"]\n",
    "run_data = {}\n",
    "for run_name in run_names:\n",
    "    run_data[run_name] = pd.read_csv(f\"{output_directory}/{run_name}/ReservoirsOutput.csv\")\n",
    "run_data[\"draining\"]"
   ]
  },
  {
   "cell_type": "markdown",
   "metadata": {},
   "source": [
    "Finally, we plot the relevant reservoir variables for each of the runs. Note that due to an untimely harddrive failure the numbers here are tuned differently than in the paper. The broad behaviour however, remains the same."
   ]
  },
  {
   "cell_type": "code",
   "execution_count": null,
   "metadata": {},
   "outputs": [],
   "source": [
    "# Create a figure and a 1x3 grid of subplots\n",
    "fig, axs = plt.subplots(1, 3, sharex=False, sharey=True, figsize=(18, 6))\n",
    "\n",
    "# Stubbed out locations for subfigure names\n",
    "subfigure_names = ['Filling', 'Draining', 'Periodic Rainfall']\n",
    "\n",
    "# Plotting dummy data and setting titles\n",
    "for i, ax in enumerate(axs):\n",
    "    run = run_data[run_names[i]]\n",
    "    ax.set_ylim(0, 75)\n",
    "    ax.plot(run['time'][1:10], run['storage'][1:10], label='Storage')  \n",
    "    # add an x-axis label\n",
    "    ax.set_xlabel('Time (hours)')\n",
    "    ax.set_title(subfigure_names[i])\n",
    "    if i == 0:\n",
    "        ax.set_ylabel('Storage (m^3)')\n",
    "    \n",
    "    # Create a secondary y-axis\n",
    "    ax_right = ax.twinx()\n",
    "    ax_right.set_ylim(0, 20)\n",
    "    ax_right.plot(run['time'][1:10], run['intake_amount_since_last_row'][1:10], label='Intake Rate', color='orange')\n",
    "    ax_right.plot(run['time'][1:10], run['release_amount_since_last_row'][1:10], label='Release Rate', linestyle='--', color='orange')\n",
    "    ax_right.set_ylabel('Rate (m^3/hr)')\n",
    "    if i!=2:\n",
    "        ax_right.set_yticklabels([])\n",
    "    if i == 2:\n",
    "        ax_right.set_ylabel('Rate (m^3/hr)')\n",
    "\n",
    "    ax.legend(['Storage'], loc='upper left')\n",
    "    ax_right.legend(['Intake Rate', 'Release Rate'], loc='upper right')\n",
    "\n",
    "# Adding shared y-axis labels\n",
    "fig.text(0.5, 0.04, 'Shared X-axis', ha='center')\n",
    "fig.text(0.04, 0.5, 'Shared Y-axis (left)', va='center', rotation='vertical')\n",
    "fig.text(0.96, 0.5, 'Shared Y-axis (right)', va='center', rotation='vertical')\n",
    "\n",
    "# Adjust layout\n",
    "plt.tight_layout(rect=[0.05, 0.05, 0.95, 0.95])\n",
    "\n",
    "# Show the plot\n",
    "plt.show()"
   ]
  }
 ],
 "metadata": {
  "kernelspec": {
   "display_name": "test-env",
   "language": "python",
   "name": "python3"
  },
  "language_info": {
   "codemirror_mode": {
    "name": "ipython",
    "version": 3
   },
   "file_extension": ".py",
   "mimetype": "text/x-python",
   "name": "python",
   "nbconvert_exporter": "python",
   "pygments_lexer": "ipython3",
   "version": "3.11.5"
  }
 },
 "nbformat": 4,
 "nbformat_minor": 2
}
